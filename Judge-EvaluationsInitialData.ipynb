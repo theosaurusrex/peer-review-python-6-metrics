{
 "cells": [
  {
   "cell_type": "markdown",
   "metadata": {},
   "source": [
    "<H2>Notes</H2>"
   ]
  },
  {
   "cell_type": "code",
   "execution_count": null,
   "metadata": {},
   "outputs": [],
   "source": [
    "# Wisc canvas API: https://wisc.instructure.com/doc/api/live#!/groups.json\n",
    "# https://canvas.instructure.com/doc/api/groups.html\n",
    "# python API wrapper for Canvas: https://github.com/ucfopen/canvasapi\n",
    "\n",
    "# import requests\n",
    "\n",
    "# user id\n",
    "\n",
    "# token\n",
    "\n",
    "# ask for course id and all groups and names in groups in course\n",
    "#     Target:https://canvas.wisc.edu/courses/193493/groups\n",
    "#     GET /api/v1/courses/:course_id/groups\n",
    "# GET \n",
    "# print list of names in groups\n",
    "\n"
   ]
  },
  {
   "cell_type": "markdown",
   "metadata": {},
   "source": [
    "<H3>Import Python Libraries and CSV (Excel sheet) exported from Qualtrics Survey</H3>\n",
    "<p>Save the Qualtrics csv from the Judge Survey into the folder, name it to match below</p>"
   ]
  },
  {
   "cell_type": "code",
   "execution_count": null,
   "metadata": {},
   "outputs": [],
   "source": [
    "import pandas as pd\n",
    "import numpy as np\n",
    "# import CSV\n",
    "df1 = pd.read_csv('sample.csv')\n",
    "\n"
   ]
  },
  {
   "cell_type": "markdown",
   "metadata": {},
   "source": [
    "<H3>Column data rendered in a dataframe</H3> \n",
    "<p>All individual scores and dimensions</p>"
   ]
  },
  {
   "cell_type": "code",
   "execution_count": null,
   "metadata": {},
   "outputs": [],
   "source": [
    "# new dataframe containing columns by name using .loc\n",
    "columnsData = df1.loc[:,['Student','Cooperation','Punctuality','Reliability','Evaluative','Creativity','Overall Effort']]\n",
    "print(columnsData)"
   ]
  },
  {
   "cell_type": "markdown",
   "metadata": {},
   "source": [
    "<H3>Column with average scores from each grader</H3> \n",
    "<p>All individual scores and dimensions by individual grader</p>"
   ]
  },
  {
   "cell_type": "code",
   "execution_count": null,
   "metadata": {},
   "outputs": [],
   "source": [
    "# Added a column containing average of rows\n",
    "# https://stackoverflow.com/questions/31698861/add-column-to-the-end-of-pandas-dataframe-containing-average-of-previous-data\n",
    "summary_ave_data = columnsData.copy()\n",
    "summary_ave_data['average'] = summary_ave_data.mean(numeric_only=True, axis=1)\n",
    "summary_ave_data"
   ]
  },
  {
   "cell_type": "markdown",
   "metadata": {},
   "source": [
    "<H3>Column with Average of Averages scores for each Student</H3> \n",
    "<p>All individual average scores for all dimensions, and an <b>Average of Agerages</b></p>"
   ]
  },
  {
   "cell_type": "code",
   "execution_count": null,
   "metadata": {},
   "outputs": [],
   "source": [
    "# Average of all feedback for all columns, for each student: \n",
    "# Each column has an average for feedback received from many reviewers\n",
    "# \n",
    "# summary_ave_data['overall-Ave']=  \n",
    "summary_ave_data.groupby(['Student']).agg([np.average])"
   ]
  },
  {
   "cell_type": "markdown",
   "metadata": {},
   "source": [
    "<H3>Name of Each Student, and their Average Overall Score average</H3> "
   ]
  },
  {
   "cell_type": "code",
   "execution_count": null,
   "metadata": {
    "scrolled": true
   },
   "outputs": [],
   "source": [
    "# Average score and student name only\n",
    "summary_ave_data[['Student','average']].groupby(['Student']).agg([np.average])"
   ]
  },
  {
   "cell_type": "code",
   "execution_count": null,
   "metadata": {},
   "outputs": [],
   "source": [
    "summary_ave_data.to_csv('Judge-Final.csv')"
   ]
  }
 ],
 "metadata": {
  "kernelspec": {
   "display_name": "Python 3",
   "language": "python",
   "name": "python3"
  },
  "language_info": {
   "codemirror_mode": {
    "name": "ipython",
    "version": 3
   },
   "file_extension": ".py",
   "mimetype": "text/x-python",
   "name": "python",
   "nbconvert_exporter": "python",
   "pygments_lexer": "ipython3",
   "version": "3.7.3"
  }
 },
 "nbformat": 4,
 "nbformat_minor": 2
}
